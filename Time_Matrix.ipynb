{
  "nbformat": 4,
  "nbformat_minor": 0,
  "metadata": {
    "colab": {
      "provenance": [],
      "authorship_tag": "ABX9TyMBdDZjEC7NeCv+uQcEhtmh",
      "include_colab_link": true
    },
    "kernelspec": {
      "name": "python3",
      "display_name": "Python 3"
    },
    "language_info": {
      "name": "python"
    }
  },
  "cells": [
    {
      "cell_type": "markdown",
      "metadata": {
        "id": "view-in-github",
        "colab_type": "text"
      },
      "source": [
        "<a href=\"https://colab.research.google.com/github/keiiigo/RecursosOpenSource/blob/main/Time_Matrix.ipynb\" target=\"_parent\"><img src=\"https://colab.research.google.com/assets/colab-badge.svg\" alt=\"Open In Colab\"/></a>"
      ]
    },
    {
      "cell_type": "code",
      "execution_count": null,
      "metadata": {
        "id": "ffNaG1InLmb3"
      },
      "outputs": [],
      "source": [
        "GRAPH_HOPPER_URL = 'insert your localhost'\n",
        "\n",
        "CSV_FILE = 'lkmsk.csv'\n",
        "df = pd.read_csv(CSV_FILE)\n",
        "\n",
        "\n",
        "def get_duration(lat1, lon1, lat2, lon2, cache):\n",
        "    key = (lat1, lon1, lat2, lon2)\n",
        "    if key in cache:\n",
        "        return cache[key]\n",
        "\n",
        "    params = {\n",
        "        'point': [f'{lat1},{lon1}', f'{lat2},{lon2}'],\n",
        "        'profile': 'car',\n",
        "        'locale': 'en',\n",
        "        'key': ''\n",
        "    }\n",
        "\n",
        "    try:\n",
        "        response = requests.get(GRAPH_HOPPER_URL, params=params)\n",
        "\n",
        "        if response.status_code == 200:\n",
        "            data = response.json()\n",
        "            duration_ms = data['paths'][0]['time']\n",
        "            duration_seconds = duration_ms / 1000\n",
        "            cache[key] = duration_seconds\n",
        "            return duration_seconds\n",
        "        else:\n",
        "            print(f\"Error: {response.status_code}, Response: {response.text}\")\n",
        "            return None\n",
        "    except Exception as e:\n",
        "        print(f\"Exception occurred: {e}\")\n",
        "        return None\n",
        "\n",
        "if 'Latitude' not in df.columns or 'Longitude' not in df.columns:\n",
        "    raise ValueError(\"CSV must contain 'Latitude' and 'Longitude' columns.\")\n",
        "\n",
        "locations = [(row['Latitude'], row['Longitude']) for _, row in df.iterrows()]\n",
        "cache = {}\n",
        "\n",
        "time_matrix = pd.DataFrame(index=df['Customer Name'], columns=df['Customer Name'], dtype=float)\n",
        "\n",
        "def compute_duration(i, j, lat1, lon1, lat2, lon2):\n",
        "    if i == j:\n",
        "        return 0\n",
        "    print(f\"Calculating duration from Location{i+1} to Location{j+1}...\")\n",
        "    duration = get_duration(lat1, lon1, lat2, lon2, cache)\n",
        "    if duration is not None:\n",
        "        print(f\"Duration from Location{i+1} to Location{j+1}: {duration} seconds\")\n",
        "    else:\n",
        "        print(f\"Failed to get duration from Location{i+1} to Location{j+1}.\")\n",
        "    return duration\n",
        "\n",
        "with ThreadPoolExecutor(max_workers=10) as executor:\n",
        "    futures = {}\n",
        "    for i, (lat1, lon1) in enumerate(locations):\n",
        "        for j, (lat2, lon2) in enumerate(locations):\n",
        "            futures[(i, j)] = executor.submit(compute_duration, i, j, lat1, lon1, lat2, lon2)\n",
        "\n",
        "    for (i, j), future in futures.items():\n",
        "        time_matrix.iloc[i, j] = future.result()\n",
        "        sleep(0.05)\n",
        "\n",
        "OUTPUT_FILE = 'time_matrix.csv'\n",
        "time_matrix.to_csv(OUTPUT_FILE)\n",
        "print(f\"Time matrix saved to {OUTPUT_FILE}\")\n",
        "\n",
        "print(\"Time Matrix:\")\n",
        "print(time_matrix)"
      ]
    }
  ]
}