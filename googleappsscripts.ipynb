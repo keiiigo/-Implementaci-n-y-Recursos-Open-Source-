{
  "nbformat": 4,
  "nbformat_minor": 0,
  "metadata": {
    "colab": {
      "provenance": [],
      "authorship_tag": "ABX9TyPT8e0dHOFFv0h8YLk1TubJ",
      "include_colab_link": true
    },
    "kernelspec": {
      "name": "python3",
      "display_name": "Python 3"
    },
    "language_info": {
      "name": "python"
    }
  },
  "cells": [
    {
      "cell_type": "markdown",
      "metadata": {
        "id": "view-in-github",
        "colab_type": "text"
      },
      "source": [
        "<a href=\"https://colab.research.google.com/github/keiiigo/RecursosOpenSource/blob/gappscript/googleappsscripts.ipynb\" target=\"_parent\"><img src=\"https://colab.research.google.com/assets/colab-badge.svg\" alt=\"Open In Colab\"/></a>"
      ]
    },
    {
      "cell_type": "code",
      "execution_count": null,
      "metadata": {
        "id": "X9tE9ZP5oB7H"
      },
      "outputs": [],
      "source": [
        "#Apps Script Data Cleaning"
      ]
    },
    {
      "cell_type": "code",
      "source": [
        "#Check if address is found\n",
        "function getLatLong(address) {\n",
        "  if (!address) {\n",
        "    return [\"Error\", \"Error\"];\n",
        "  }\n",
        "\n",
        "  var geocoder = Maps.newGeocoder();\n",
        "  var response = geocoder.geocode(address);\n",
        "\n",
        "  if (response.status === 'OK' && response.results.length > 0) {\n",
        "    var location = response.results[0].geometry.location;\n",
        "    return [location.lat, location.lng];\n",
        "  } else {\n",
        "    // Log error to see if it's an invalid address or issue with geocoding\n",
        "    Logger.log(\"Geocoding failed for address: \" + address);\n",
        "    return [\"Error\", \"Error\"];\n",
        "  }\n",
        "}"
      ],
      "metadata": {
        "id": "0ZVfUy0toLUZ"
      },
      "execution_count": null,
      "outputs": []
    },
    {
      "cell_type": "code",
      "source": [
        "#Extracting the GeoCode Plus and convert it to latitude and longitude points\n",
        "function fillLatLong() {\n",
        "  var sheet = SpreadsheetApp.getActiveSpreadsheet().getActiveSheet();\n",
        "  var range = sheet.getRange(\"C2:C\");\n",
        "  var addresses = range.getValues();\n",
        "\n",
        "  var latLongs = [];\n",
        "\n",
        "  for (var i = 0; i < addresses.length; i++) {\n",
        "    var address = addresses[i][0];\n",
        "    if (address) {\n",
        "      var latLong = getLatLong(address);\n",
        "\n",
        "      if (latLong[0] !== \"Error\") {\n",
        "        var latLongString = latLong.join(\", \");\n",
        "        latLongs.push([latLongString]);\n",
        "      } else {\n",
        "        latLongs.push([\"Invalid Address\"]);\n",
        "      }\n",
        "    } else {\n",
        "      latLongs.push([\"No Address Provided\"]);\n",
        "    }\n",
        "#Delays for limitation\n",
        "    Utilities.sleep(1000); // Sleep for 1 second to prevent rate limit errors\n",
        "  }\n",
        "\n",
        "  sheet.getRange(2, 4, latLongs.length, 1).setValues(latLongs);\n",
        "}"
      ],
      "metadata": {
        "id": "gCNa-hNtoQh3"
      },
      "execution_count": null,
      "outputs": []
    },
    {
      "cell_type": "code",
      "source": [
        "#Split coordinates\n",
        "function separateCoordinates() {\n",
        "  const sheet = SpreadsheetApp.getActiveSpreadsheet().getActiveSheet();\n",
        "  const range = sheet.getRange(\"E:E\");\n",
        "  const values = range.getValues();\n",
        "\n",
        "  for (let i = 0; i < values.length; i++) {\n",
        "    const coord = values[i][0];\n",
        "    if (coord) {\n",
        "      const [latitude, longitude] = coord.split(',').map(Number); // Split and convert to numbers\n",
        "      sheet.getRange(i + 1, 5).setValue(latitude);  // Place latitude in column D (4)\n",
        "      sheet.getRange(i + 1, 6).setValue(longitude); // Place longitude in column E (5)\n",
        "    }\n",
        "  }\n",
        "}"
      ],
      "metadata": {
        "id": "2_HVqOySonqz"
      },
      "execution_count": null,
      "outputs": []
    }
  ]
}